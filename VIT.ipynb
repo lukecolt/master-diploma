{
  "cells": [
    {
      "cell_type": "markdown",
      "metadata": {
        "id": "MvBMur44LqoX"
      },
      "source": [
        "# Klasyfikacja obrazów metodą Vision Transformer\n"
      ]
    },
    {
      "cell_type": "markdown",
      "metadata": {
        "id": "TvkwqJ5bLqoc"
      },
      "source": [
        "## Wstęp\n",
        "Opracowane na podstawie:\n",
        "*  [Vision Transformer (ViT) model, Alexey Dosovitskiy i inni ](https://arxiv.org/abs/2010.11929)\n",
        "*  [Image classification with Vision Transformer, Khalid Salama](https://keras.io/examples/vision/image_classification_with_vision_transformer/)\n",
        "\n",
        "* [Vision Transformers for Brain Tumor classification, \n",
        "RAAGULBHARATWAJ K ](https://www.kaggle.com/code/raagulbharatwajk/vision-transformers-for-brain-tumor-classification)\n",
        "\n",
        "Model ViT korzysta z architektury Transformer z funkcją self-attention, bez użycia warstw konwolucyjnych.\n"
      ]
    },
    {
      "cell_type": "markdown",
      "metadata": {
        "id": "cU60nq0aLqod"
      },
      "source": [
        "## Instalacja i import bibliotek"
      ]
    },
    {
      "cell_type": "code",
      "source": [
        "pip install split-folders"
      ],
      "metadata": {
        "colab": {
          "base_uri": "https://localhost:8080/"
        },
        "id": "ROBgC9PiP2nL",
        "outputId": "135cff82-e19f-4e1c-d003-16185cf4cc0b"
      },
      "execution_count": null,
      "outputs": [
        {
          "output_type": "stream",
          "name": "stdout",
          "text": [
            "Looking in indexes: https://pypi.org/simple, https://us-python.pkg.dev/colab-wheels/public/simple/\n",
            "Collecting split-folders\n",
            "  Downloading split_folders-0.5.1-py3-none-any.whl (8.4 kB)\n",
            "Installing collected packages: split-folders\n",
            "Successfully installed split-folders-0.5.1\n"
          ]
        }
      ]
    },
    {
      "cell_type": "code",
      "source": [
        "#rozdział datset na test, train, val\n",
        "import splitfolders\n",
        "splitfolders.ratio(\"/content/gdrive/MyDrive/Colab Notebooks/Spl_data_jpg/\", \n",
        "                   output=\"/content/gdrive/MyDrive/Colab Notebooks/Spp_data/\", \n",
        "                   seed=42, \n",
        "                   ratio=(.8,0.0,.2), \n",
        "                   group_prefix=None, \n",
        "                   move=False "
      ],
      "metadata": {
        "id": "JTfHNkdVuOXM"
      },
      "execution_count": null,
      "outputs": []
    },
    {
      "cell_type": "code",
      "source": [
        "# przepisanie zdjęć do folderów\n",
        "t_dir = \"/content/gdrive/MyDrive/Colab Notebooks/Data/HSIL\"\n",
        "trainPaths = sorted(list(paths.list_images(t_dir)))\n",
        "IMAGE_WIDTH, IMAGE_HEIGHT = 256, 256\n",
        "x_train = []\n",
        "y_train = []\n",
        "image_size = 256\n",
        "a = 0\n",
        "\n",
        "for imagePath in trainPaths:\n",
        "    image = cv2.imread(imagePath)\n",
        "    image = cv2.resize(image, (IMAGE_WIDTH, IMAGE_HEIGHT))\n",
        "    cv2.imwrite(\"/content/gdrive/MyDrive/Colab Notebooks/Spl_data_jpg/NSIL/s%d.jpg\" % a, image)\n",
        "    a+=1 "
      ],
      "metadata": {
        "id": "tbKkVFNFuO3D"
      },
      "execution_count": null,
      "outputs": []
    },
    {
      "cell_type": "code",
      "source": [
        "pip install -U tensorflow-addons"
      ],
      "metadata": {
        "colab": {
          "base_uri": "https://localhost:8080/"
        },
        "id": "TVzn7PYZL4Bj",
        "outputId": "f31dd27c-1d21-4c49-c065-459ff24950ed"
      },
      "execution_count": null,
      "outputs": [
        {
          "output_type": "stream",
          "name": "stdout",
          "text": [
            "Looking in indexes: https://pypi.org/simple, https://us-python.pkg.dev/colab-wheels/public/simple/\n",
            "Collecting tensorflow-addons\n",
            "  Downloading tensorflow_addons-0.20.0-cp310-cp310-manylinux_2_17_x86_64.manylinux2014_x86_64.whl (591 kB)\n",
            "\u001b[2K     \u001b[90m━━━━━━━━━━━━━━━━━━━━━━━━━━━━━━━━━━━━━━\u001b[0m \u001b[32m591.0/591.0 kB\u001b[0m \u001b[31m48.3 MB/s\u001b[0m eta \u001b[36m0:00:00\u001b[0m\n",
            "\u001b[?25hRequirement already satisfied: packaging in /usr/local/lib/python3.10/dist-packages (from tensorflow-addons) (23.1)\n",
            "Collecting typeguard<3.0.0,>=2.7 (from tensorflow-addons)\n",
            "  Downloading typeguard-2.13.3-py3-none-any.whl (17 kB)\n",
            "Installing collected packages: typeguard, tensorflow-addons\n",
            "Successfully installed tensorflow-addons-0.20.0 typeguard-2.13.3\n"
          ]
        }
      ]
    },
    {
      "cell_type": "code",
      "execution_count": null,
      "metadata": {
        "id": "qV_Jr7jSLqod",
        "colab": {
          "base_uri": "https://localhost:8080/"
        },
        "outputId": "9ed7639d-1bbc-4914-8f7b-1407eb6eb4ef"
      },
      "outputs": [
        {
          "output_type": "stream",
          "name": "stderr",
          "text": [
            "/usr/local/lib/python3.10/dist-packages/tensorflow_addons/utils/tfa_eol_msg.py:23: UserWarning: \n",
            "\n",
            "TensorFlow Addons (TFA) has ended development and introduction of new features.\n",
            "TFA has entered a minimal maintenance and release mode until a planned end of life in May 2024.\n",
            "Please modify downstream libraries to take dependencies from other repositories in our TensorFlow community (e.g. Keras, Keras-CV, and Keras-NLP). \n",
            "\n",
            "For more information see: https://github.com/tensorflow/addons/issues/2807 \n",
            "\n",
            "  warnings.warn(\n"
          ]
        }
      ],
      "source": [
        "import numpy as np\n",
        "import tensorflow as tf\n",
        "from tensorflow import keras\n",
        "from tensorflow.keras import layers\n",
        "import tensorflow_addons as tfa\n",
        "import sklearn\n",
        "from sklearn.metrics import roc_curve\n",
        "from sklearn.metrics import confusion_matrix\n",
        "import sklearn.model_selection as sk\n",
        "import math\n",
        "from sklearn.utils import shuffle\n",
        "from sklearn.model_selection import train_test_split\n",
        "from imutils import paths\n",
        "import random\n",
        "from tqdm import tqdm\n",
        "from google.colab import drive\n",
        "import cv2\n",
        "import os\n",
        "from tensorflow.keras.metrics import Precision, Recall, SparseCategoricalAccuracy\n",
        "import matplotlib.pyplot as plt\n",
        "from sklearn.metrics import accuracy_score, confusion_matrix, classification_report\n",
        "from sklearn.metrics import ConfusionMatrixDisplay\n",
        "from sklearn import metrics\n",
        "from keras.utils import plot_model\n",
        "\n"
      ]
    },
    {
      "cell_type": "markdown",
      "metadata": {
        "id": "4wxc78pZLqof"
      },
      "source": [
        "## Przygotowanie danych"
      ]
    },
    {
      "cell_type": "code",
      "source": [
        "data_dir = \"/content/gdrive/MyDrive/Colab Notebooks/Data/\"\n",
        "drive.mount('/content/gdrive')"
      ],
      "metadata": {
        "colab": {
          "base_uri": "https://localhost:8080/"
        },
        "id": "UgFfhbhAMvdo",
        "outputId": "914b32b8-114e-4445-c2cd-67f7947e2534"
      },
      "execution_count": null,
      "outputs": [
        {
          "output_type": "stream",
          "name": "stdout",
          "text": [
            "Mounted at /content/gdrive\n"
          ]
        }
      ]
    },
    {
      "cell_type": "code",
      "source": [
        "labels = {'HSIL':0,'LSIL':1,'NSIL':2}\n",
        "train_dir = \"/content/gdrive/MyDrive/Colab Notebooks/Spp_data/train\"\n",
        "test_dir = \"/content/gdrive/MyDrive/Colab Notebooks/Spp_data/test\"\n",
        "trainPaths = sorted(list(paths.list_images(train_dir)))\n",
        "testPaths = sorted(list(paths.list_images(test_dir)))\n",
        "random.seed(2)\n",
        "random.shuffle(trainPaths)\n",
        "random.shuffle(testPaths)\n",
        "print(f\"Train Data: {len(trainPaths)}\")\n",
        "print(f\"Test Data: {len(testPaths)}\")"
      ],
      "metadata": {
        "colab": {
          "base_uri": "https://localhost:8080/"
        },
        "id": "nGesrJ4V7OG7",
        "outputId": "3732972d-12dd-4f9c-d526-cc2f2ece3ab9"
      },
      "execution_count": null,
      "outputs": [
        {
          "output_type": "stream",
          "name": "stdout",
          "text": [
            "Train Data: 733\n",
            "Test Data: 185\n"
          ]
        }
      ]
    },
    {
      "cell_type": "code",
      "source": [
        "x_train = []\n",
        "y_train = []\n",
        "image_size = 256\n",
        "for i in labels:\n",
        "    folderPath = os.path.join(train_dir,i)\n",
        "    for j in tqdm(os.listdir(folderPath)):\n",
        "        img = cv2.imread(os.path.join(folderPath,j))\n",
        "        img = cv2.resize(img,(image_size, image_size))\n",
        "        x_train.append(img)\n",
        "        y_train.append(labels[i])\n",
        "        \n",
        "for i in labels:\n",
        "    folderPath = os.path.join(test_dir,i)\n",
        "    for j in tqdm(os.listdir(folderPath)):\n",
        "        img = cv2.imread(os.path.join(folderPath,j))\n",
        "        img = cv2.resize(img,(image_size,image_size))\n",
        "        x_train.append(img)\n",
        "        y_train.append(labels[i])\n",
        "        \n",
        "x_train = np.array(x_train)\n",
        "y_train = np.array(y_train)"
      ],
      "metadata": {
        "colab": {
          "base_uri": "https://localhost:8080/"
        },
        "id": "azY5ZonVq2Pm",
        "outputId": "c4e5ef07-ef62-444b-f17a-f09bdd2c256f"
      },
      "execution_count": null,
      "outputs": [
        {
          "output_type": "stream",
          "name": "stderr",
          "text": [
            "100%|██████████| 193/193 [00:00<00:00, 313.98it/s]\n",
            "100%|██████████| 168/168 [00:00<00:00, 319.36it/s]\n",
            "100%|██████████| 372/372 [00:01<00:00, 313.66it/s]\n",
            "100%|██████████| 49/49 [00:00<00:00, 382.35it/s]\n",
            "100%|██████████| 42/42 [00:00<00:00, 368.54it/s]\n",
            "100%|██████████| 94/94 [00:00<00:00, 353.95it/s]\n"
          ]
        }
      ]
    },
    {
      "cell_type": "code",
      "source": [
        "x_train, y_train = shuffle(x_train,y_train, random_state=101)"
      ],
      "metadata": {
        "id": "gzMhWgEt9D3P"
      },
      "execution_count": null,
      "outputs": []
    },
    {
      "cell_type": "code",
      "source": [
        "x_train,x_test,y_train,y_test = train_test_split(x_train,y_train, test_size=0.2,random_state=101)\n",
        "x_train, x_val, y_train, y_val = train_test_split(x_train, y_train, test_size=0.125, random_state=101) # 0.125 x 0.8 = 0.2"
      ],
      "metadata": {
        "id": "VO42XZxl9G3x"
      },
      "execution_count": null,
      "outputs": []
    },
    {
      "cell_type": "code",
      "execution_count": null,
      "metadata": {
        "id": "rNwprlZiLqof",
        "colab": {
          "base_uri": "https://localhost:8080/"
        },
        "outputId": "8e9a9c58-93b2-45c9-85e1-34dc00e429b7"
      },
      "outputs": [
        {
          "output_type": "stream",
          "name": "stdout",
          "text": [
            "x_train shape: (734, 256, 256, 3) - y_train shape: (734,)\n",
            "x_test shape: (184, 256, 256, 3) - y_test shape: (184,)\n"
          ]
        }
      ],
      "source": [
        "print(f\"x_train shape: {x_train.shape} - y_train shape: {y_train.shape}\")\n",
        "print(f\"x_test shape: {x_test.shape} - y_test shape: {y_test.shape}\")\n",
        "print(f\"x_test shape: {x_val.shape} - y_test shape: {y_val.shape}\")\n"
      ]
    },
    {
      "cell_type": "markdown",
      "metadata": {
        "id": "oXXBMXmbLqog"
      },
      "source": [
        "## Konfiguracja parametrów"
      ]
    },
    {
      "cell_type": "code",
      "source": [
        "num_epochs = 100\n",
        "num_classes = 3\n",
        "input_shape = (256, 256, 3)\n",
        "buffer_size = 512\n",
        "batch_size = 256\n",
        "image_size = 72 # rozmiar zdjęć używanych w augmentacji\n",
        "patch_size = 6 # rozmiar pól wyodrębnianych z obrazu\n",
        "num_patches = (image_size // patch_size) ** 2\n",
        "learning_rate = 0.001\n",
        "weight_decay = 0.0001\n",
        "layer_norm_eps = 1e-6\n",
        "transformer_layers = 8\n",
        "projection_dim = 64\n",
        "num_heads = 4\n",
        "transformer_units = [\n",
        "    projection_dim * 2,\n",
        "    projection_dim,\n",
        "] \n",
        "transformer_layers = 8\n",
        "mlp_head_units = [2048, 1024]"
      ],
      "metadata": {
        "id": "7BYQjn4A-fv4"
      },
      "execution_count": null,
      "outputs": []
    },
    {
      "cell_type": "markdown",
      "metadata": {
        "id": "1b49QLdlLqoh"
      },
      "source": [
        "## Augmentacja danych"
      ]
    },
    {
      "cell_type": "code",
      "execution_count": null,
      "metadata": {
        "id": "7sDkjoYcLqoi"
      },
      "outputs": [],
      "source": [
        "train_data_augmentation = keras.Sequential(\n",
        "    [\n",
        "        layers.Normalization(),\n",
        "        layers.Resizing(image_size, image_size),\n",
        "        layers.RandomFlip(\"horizontal\"),\n",
        "        layers.RandomRotation(factor=0.02),\n",
        "        layers.RandomZoom(\n",
        "            height_factor=0.2, width_factor=0.2\n",
        "        ),\n",
        "    ],\n",
        "    name=\"train_data_augmentation\",\n",
        ")\n",
        "\n",
        "test_data_augmentation = keras.Sequential(\n",
        "    [\n",
        "        layers.Normalization(),\n",
        "        layers.Resizing(image_size, image_size),\n",
        "    ],\n",
        "    name=\"test_data_augmentation\",\n",
        ")\n",
        "\n",
        "train_data_augmentation.layers[0].adapt(x_train)\n",
        "test_data_augmentation.layers[0].adapt(x_train)"
      ]
    },
    {
      "cell_type": "code",
      "source": [
        "def map_fn_train(image, label):\n",
        "    return (train_data_augmentation(image), label)\n",
        "\n",
        "def map_fn_test(image, label):\n",
        "    return (test_data_augmentation(image), label)"
      ],
      "metadata": {
        "id": "GU_MI88v-K5W"
      },
      "execution_count": null,
      "outputs": []
    },
    {
      "cell_type": "code",
      "source": [
        "AUTO = tf.data.AUTOTUNE\n",
        "train_ds = tf.data.Dataset.from_tensor_slices((x_train, y_train))\n",
        "train_ds_iterator = train_ds.as_numpy_iterator()\n",
        "batch = train_ds_iterator.next()\n",
        "train_ds = train_ds.shuffle(buffer_size).batch(batch_size).map(map_fn_train).prefetch(AUTO)\n",
        "\n",
        "test_ds = tf.data.Dataset.from_tensor_slices((x_test, y_test))\n",
        "test_ds = test_ds.batch(batch_size).map(map_fn_test).prefetch(AUTO)\n",
        "\n",
        "val_ds = tf.data.Dataset.from_tensor_slices((x_val, y_val))\n",
        "val_ds = val_ds.batch(batch_size).map(map_fn_test).prefetch(AUTO)"
      ],
      "metadata": {
        "id": "87x_PP2l-O3E"
      },
      "execution_count": null,
      "outputs": []
    },
    {
      "cell_type": "markdown",
      "metadata": {
        "id": "XLeMhGSTLqoj"
      },
      "source": [
        "## Perceptron wielowarstwowy (MLP)"
      ]
    },
    {
      "cell_type": "code",
      "source": [
        "def mlp(x, hidden_units, dropout_rate):\n",
        "    for units in hidden_units:\n",
        "        x = layers.Dense(units, activation=tf.nn.gelu)(x)\n",
        "        x = layers.Dropout(dropout_rate)(x)\n",
        "    return x"
      ],
      "metadata": {
        "id": "PU71B2xg-n9j"
      },
      "execution_count": null,
      "outputs": []
    },
    {
      "cell_type": "markdown",
      "metadata": {
        "id": "p0O0FfjELqok"
      },
      "source": [
        "## Utworzenie pól (patches) jako warstwy"
      ]
    },
    {
      "cell_type": "code",
      "source": [
        "class ShiftedPatchTokenization(layers.Layer):\n",
        "    def __init__(\n",
        "        self,\n",
        "        image_size=image_size,\n",
        "        patch_size=patch_size,\n",
        "        num_patches=num_patches,\n",
        "        projection_dim=projection_dim,\n",
        "        vanilla=False,\n",
        "    ):\n",
        "        super().__init__()\n",
        "        self.vanilla = vanilla \n",
        "        self.image_size = image_size\n",
        "        self.patch_size = patch_size\n",
        "        self.half_patch = patch_size // 2\n",
        "        self.flatten_patches = layers.Reshape((num_patches, -1))\n",
        "        self.projection = layers.Dense(units=projection_dim)\n",
        "        self.layer_norm = layers.LayerNormalization(epsilon=layer_norm_eps)\n",
        "    \n",
        "    def get_config(self):\n",
        "        config = super().get_config()\n",
        "        config.update({\n",
        "            \"vanilla\": self.vanilla,\n",
        "            \"image_size\": self.image_size,\n",
        "            \"patch_size\": self.patch_size,\n",
        "            \"half_patch\": self.half_patch\n",
        "        })\n",
        "        return config\n",
        "    \n",
        "    def crop_shift_pad(self, images, mode):\n",
        "        if mode == \"left-up\":\n",
        "            crop_height = self.half_patch\n",
        "            crop_width = self.half_patch\n",
        "            shift_height = 0\n",
        "            shift_width = 0\n",
        "        elif mode == \"left-down\":\n",
        "            crop_height = 0\n",
        "            crop_width = self.half_patch\n",
        "            shift_height = self.half_patch\n",
        "            shift_width = 0\n",
        "        elif mode == \"right-up\":\n",
        "            crop_height = self.half_patch\n",
        "            crop_width = 0\n",
        "            shift_height = 0\n",
        "            shift_width = self.half_patch\n",
        "        else:\n",
        "            crop_height = 0\n",
        "            crop_width = 0\n",
        "            shift_height = self.half_patch\n",
        "            shift_width = self.half_patch\n",
        "        \n",
        "        crop = tf.image.crop_to_bounding_box(\n",
        "            images,\n",
        "            offset_height=crop_height,\n",
        "            offset_width=crop_width,\n",
        "            target_height=self.image_size-self.half_patch,\n",
        "            target_width=self.image_size-self.half_patch,\n",
        "        )\n",
        "        shift_pad = tf.image.pad_to_bounding_box(\n",
        "            crop,\n",
        "            offset_height=shift_height,\n",
        "            offset_width=shift_width,\n",
        "            target_height=self.image_size,\n",
        "            target_width=self.image_size,\n",
        "        )\n",
        "        return shift_pad\n",
        "\n",
        "    def call(self, images):\n",
        "        if not self.vanilla:\n",
        "            images = tf.concat(\n",
        "                [\n",
        "                    images,\n",
        "                    self.crop_shift_pad(images, mode=\"left-up\"),\n",
        "                    self.crop_shift_pad(images, mode=\"left-down\"),\n",
        "                    self.crop_shift_pad(images, mode=\"right-up\"),\n",
        "                    self.crop_shift_pad(images, mode=\"right-down\"),\n",
        "                ],\n",
        "                axis=-1\n",
        "            )\n",
        "        patches = tf.image.extract_patches(\n",
        "            images=images,\n",
        "            sizes=[1, self.patch_size, self.patch_size, 1],\n",
        "            strides=[1, self.patch_size, self.patch_size, 1],\n",
        "            rates=[1, 1, 1, 1],\n",
        "            padding=\"VALID\",\n",
        "        )\n",
        "        flat_patches = self.flatten_patches(patches)\n",
        "        if not self.vanilla:\n",
        "            tokens = self.layer_norm(flat_patches)\n",
        "            tokens = self.projection(tokens)\n",
        "        else:\n",
        "            tokens = self.projection(flat_patches)\n",
        "        return (tokens, patches)"
      ],
      "metadata": {
        "id": "3dIYSfbN-aN9"
      },
      "execution_count": null,
      "outputs": []
    },
    {
      "cell_type": "markdown",
      "metadata": {
        "id": "t22dZAIRLqol"
      },
      "source": [
        "Utworzone pola na przykładowym obrazie"
      ]
    },
    {
      "cell_type": "code",
      "source": [
        "class Patches(layers.Layer):\n",
        "    def __init__(self, patch_size):\n",
        "        super().__init__()\n",
        "        self.patch_size = patch_size\n",
        "\n",
        "    def call(self, images):\n",
        "        batch_size = tf.shape(images)[0]\n",
        "        patches = tf.image.extract_patches(\n",
        "            images=images,\n",
        "            sizes=[1, self.patch_size, self.patch_size, 1],\n",
        "            strides=[1, self.patch_size, self.patch_size, 1],\n",
        "            rates=[1, 1, 1, 1],\n",
        "            padding=\"VALID\",\n",
        "        )\n",
        "        patch_dims = patches.shape[-1]\n",
        "        patches = tf.reshape(patches, [batch_size, -1, patch_dims])\n",
        "        return patches"
      ],
      "metadata": {
        "id": "N9lOLOwbDQZw"
      },
      "execution_count": null,
      "outputs": []
    },
    {
      "cell_type": "code",
      "execution_count": null,
      "metadata": {
        "id": "3BrXE2o6Lqom",
        "colab": {
          "base_uri": "https://localhost:8080/",
          "height": 742
        },
        "outputId": "ab8c04f7-3d1d-4dc4-e888-115ee1e07e06"
      },
      "outputs": [
        {
          "output_type": "stream",
          "name": "stdout",
          "text": [
            "Image size: 72 X 72\n",
            "Patch size: 6 X 6\n",
            "Patches per image: 144\n",
            "Elements per patch: 108\n"
          ]
        },
        {
          "output_type": "display_data",
          "data": {
            "text/plain": [
              "<Figure size 400x400 with 1 Axes>"
            ],
            "image/png": "[encoded data removed]"
          },
          "metadata": {}
        },
        {
          "output_type": "display_data",
          "data": {
            "text/plain": [
              "<Figure size 400x400 with 144 Axes>"
            ],
            "image/png": "[encoded data removed]"
          },
          "metadata": {}
        }
      ],
      "source": [
        "import matplotlib.pyplot as plt\n",
        "\n",
        "plt.figure(figsize=(4, 4))\n",
        "image = x_train[np.random.choice(range(x_train.shape[0]))]\n",
        "plt.imshow(image.astype(\"uint8\"))\n",
        "plt.axis(\"off\")\n",
        "\n",
        "resized_image = tf.image.resize(\n",
        "    tf.convert_to_tensor([image]), size=(image_size, image_size)\n",
        ")\n",
        "patches = Patches(patch_size)(resized_image)\n",
        "print(f\"Image size: {image_size} X {image_size}\")\n",
        "print(f\"Patch size: {patch_size} X {patch_size}\")\n",
        "print(f\"Patches per image: {patches.shape[1]}\")\n",
        "print(f\"Elements per patch: {patches.shape[-1]}\")\n",
        "\n",
        "n = int(np.sqrt(patches.shape[1]))\n",
        "plt.figure(figsize=(4, 4))\n",
        "for i, patch in enumerate(patches[0]):\n",
        "    ax = plt.subplot(n, n, i + 1)\n",
        "    patch_img = tf.reshape(patch, (patch_size, patch_size, 3))\n",
        "    plt.imshow(patch_img.numpy().astype(\"uint8\"))\n",
        "    plt.axis(\"off\")"
      ]
    },
    {
      "cell_type": "markdown",
      "metadata": {
        "id": "XQzWiW9lLqom"
      },
      "source": [
        "## Warstwa \"kodowania\" pól (patches)\n",
        "\n",
        "Warstwa `PatchEncoder` liniowo przekształca pole (patch) poprzez rzutowanie na\n",
        "wektor o rozmiarze `projection_dim`."
      ]
    },
    {
      "cell_type": "code",
      "source": [
        "class PatchEncoder(layers.Layer):\n",
        "    def __init__(self, num_patches=num_patches, projection_dim=projection_dim):\n",
        "        super().__init__()\n",
        "        self.num_patches = num_patches\n",
        "        self.position_embedding = layers.Embedding(\n",
        "            input_dim=num_patches, output_dim=projection_dim\n",
        "        )\n",
        "        self.positions = tf.range(start=0, limit=self.num_patches, delta=1)\n",
        "\n",
        "    def get_config(self):\n",
        "        config = super().get_config()\n",
        "        config.update({\n",
        "            \"num_patches\": self.num_patches,\n",
        "            \"positions\": self.positions.numpy(),\n",
        "        })\n",
        "        return config\n",
        "\n",
        "    def call(self, encoded_patches):\n",
        "        encoded_positions = self.position_embedding(self.positions)\n",
        "        encoded_patches = encoded_patches + encoded_positions\n",
        "        return encoded_patches"
      ],
      "metadata": {
        "id": "8yJg_Z3p-j3K"
      },
      "execution_count": null,
      "outputs": []
    },
    {
      "cell_type": "code",
      "source": [
        "class MultiHeadAttentionLSA(tf.keras.layers.MultiHeadAttention):\n",
        "    def __init__(self, **kwargs):\n",
        "        super().__init__(**kwargs)\n",
        "        self.tau = tf.Variable(\n",
        "            math.sqrt(float(self._key_dim)),\n",
        "            trainable=True\n",
        "        )\n",
        "        diag_attn_mask = 1 - tf.eye(num_patches)\n",
        "        self.diag_attn_mask = tf.cast([diag_attn_mask], dtype=tf.int8)\n",
        "    \n",
        "    def get_config(self):\n",
        "        config = super().get_config()\n",
        "        config.update({\n",
        "            \"tau\": self.tau.numpy(),\n",
        "            \"diag_attn_mask\": self.diag_attn_mask.numpy(),\n",
        "        })\n",
        "        return config\n",
        "\n",
        "    def _compute_attention(\n",
        "        self,\n",
        "        query,\n",
        "        key,\n",
        "        value,\n",
        "        attention_mask=None,\n",
        "        training=None\n",
        "    ):\n",
        "        query = tf.multiply(query, 1.0 / self.tau)\n",
        "        attention_scores = tf.einsum(self._dot_product_equation, key, query)\n",
        "        attention_scores = self._masked_softmax(attention_scores, attention_mask=self.diag_attn_mask)\n",
        "        attention_scores_dropout = self._dropout_layer(attention_scores, training=training)\n",
        "        attention_output = tf.einsum(self._combine_equation, attention_scores_dropout, value)\n",
        "        return attention_output, attention_scores"
      ],
      "metadata": {
        "id": "WoA_KfiP-klZ"
      },
      "execution_count": null,
      "outputs": []
    },
    {
      "cell_type": "markdown",
      "metadata": {
        "id": "_3XDWVxqLqon"
      },
      "source": [
        "## Model ViT\n",
        "\n",
        "Model ViT składa się z wielu bloków Transformer,\n",
        "które wykorzystują warstwę `layers.MultiHeadAttention` jako mechanizm self-attention zastosowany do sekwencji pól (patches). Bloki Transformer wytwarzają\n",
        "`[batch_size, num_patches, projection_dim]` tensor, który jest przetwarzany przez algorytm głowicy klasyfikatora z softmax w celu uzyskania ostatecznego wyniku prawdopodobieństwa klasy.\n"
      ]
    },
    {
      "cell_type": "code",
      "source": [
        "def create_vit_classifier(vanilla=False):\n",
        "    inputs = layers.Input(shape=(image_size, image_size, 3), name=\"input_layer\")\n",
        "    (tokens, _)  = ShiftedPatchTokenization(vanilla=vanilla)(inputs)\n",
        "    encoded_patches = PatchEncoder()(tokens)\n",
        "\n",
        "    for _ in range(transformer_layers):\n",
        "        x1 = layers.LayerNormalization(epsilon=1e-6)(encoded_patches)\n",
        "        if not vanilla:\n",
        "            attention_output = MultiHeadAttentionLSA(\n",
        "                num_heads=num_heads, key_dim=projection_dim, dropout=0.1\n",
        "            )(x1, x1)\n",
        "        else:\n",
        "            attention_output = layers.MultiHeadAttention(\n",
        "                num_heads=num_heads, key_dim=projection_dim, dropout=0.1\n",
        "            )(x1, x1)\n",
        "        x2 = layers.Add()([attention_output, encoded_patches])\n",
        "        x3 = layers.LayerNormalization(epsilon=1e-6)(x2)\n",
        "        x3 = mlp(x3, hidden_units=transformer_units, dropout_rate=0.1)\n",
        "        encoded_patches = layers.Add()([x3, x2])\n",
        "\n",
        "    representation = layers.LayerNormalization(epsilon=1e-6)(encoded_patches)\n",
        "    representation = layers.Flatten()(representation)\n",
        "    representation = layers.Dropout(0.5)(representation)\n",
        "    features = mlp(representation, hidden_units=mlp_head_units, dropout_rate=0.5)\n",
        "    logits = layers.Dense(num_classes, name=\"output_dense\", activation = 'softmax')(features)\n",
        "    model = keras.Model(inputs=inputs, outputs=logits)\n",
        "    return model"
      ],
      "metadata": {
        "id": "VFI0a9VO-qUo"
      },
      "execution_count": null,
      "outputs": []
    },
    {
      "cell_type": "code",
      "source": [
        "class WarmUpCosine(keras.optimizers.schedules.LearningRateSchedule):\n",
        "    def __init__(\n",
        "        self, learning_rate_base, total_steps, warmup_learning_rate, warmup_steps\n",
        "    ):\n",
        "        super(WarmUpCosine, self).__init__()\n",
        "\n",
        "        self.learning_rate_base = learning_rate_base\n",
        "        self.total_steps = total_steps\n",
        "        self.warmup_learning_rate = warmup_learning_rate\n",
        "        self.warmup_steps = warmup_steps\n",
        "        self.pi = tf.constant(np.pi)\n",
        "\n",
        "    def __call__(self, step):\n",
        "        if self.total_steps < self.warmup_steps:\n",
        "            raise ValueError(\"Total_steps must be larger or equal to warmup_steps.\")\n",
        "\n",
        "        cos_annealed_lr = tf.cos(\n",
        "            self.pi\n",
        "            * (tf.cast(step, tf.float32) - self.warmup_steps)\n",
        "            / float(self.total_steps - self.warmup_steps)\n",
        "        )\n",
        "        learning_rate = 0.5 * self.learning_rate_base * (1 + cos_annealed_lr)\n",
        "\n",
        "        if self.warmup_steps > 0:\n",
        "            if self.learning_rate_base < self.warmup_learning_rate:\n",
        "                raise ValueError(\n",
        "                    \"Learning_rate_base must be larger or equal to \"\n",
        "                    \"warmup_learning_rate.\"\n",
        "                )\n",
        "            slope = (\n",
        "                self.learning_rate_base - self.warmup_learning_rate\n",
        "            ) / self.warmup_steps\n",
        "            warmup_rate = slope * tf.cast(step, tf.float32) + self.warmup_learning_rate\n",
        "            learning_rate = tf.where(\n",
        "                step < self.warmup_steps, warmup_rate, learning_rate\n",
        "            )\n",
        "        return tf.where(\n",
        "            step > self.total_steps, 0.0, learning_rate, name=\"learning_rate\"\n",
        "        )"
      ],
      "metadata": {
        "id": "DDlANeJO-suH"
      },
      "execution_count": null,
      "outputs": []
    },
    {
      "cell_type": "markdown",
      "metadata": {
        "id": "Ys1_FqbpLqon"
      },
      "source": [
        "## Komplicja, trenowanie i testowanie modelu"
      ]
    },
    {
      "cell_type": "code",
      "source": [
        "logdir='logs'\n",
        "tensorboard_callback = tf.keras.callbacks.TensorBoard(log_dir=logdir)"
      ],
      "metadata": {
        "id": "-vReB0nGK216"
      },
      "execution_count": null,
      "outputs": []
    },
    {
      "cell_type": "code",
      "source": [
        "def run_experiment(model):\n",
        "    total_steps = int((len(x_train) / batch_size) * num_epochs)\n",
        "    warmup_epoch_percentage = 0.10\n",
        "    warmup_steps = int(total_steps * warmup_epoch_percentage)\n",
        "    scheduled_lrs = WarmUpCosine(\n",
        "        learning_rate_base=learning_rate,\n",
        "        total_steps=total_steps,\n",
        "        warmup_learning_rate=0.0,\n",
        "        warmup_steps=warmup_steps,\n",
        "    )\n",
        "    \n",
        "    optimizer = tfa.optimizers.AdamW(\n",
        "        learning_rate=learning_rate, weight_decay=weight_decay\n",
        "    )\n",
        "\n",
        "    model.compile(\n",
        "        optimizer=optimizer,\n",
        "        loss=keras.losses.SparseCategoricalCrossentropy(from_logits=True),\n",
        "        metrics=[\n",
        "            keras.metrics.SparseCategoricalAccuracy(name=\"accuracy\"),\n",
        "        ],\n",
        "    )\n",
        "\n",
        "    history = model.fit(\n",
        "        train_ds,\n",
        "        epochs=num_epochs,\n",
        "        validation_data=val_ds,\n",
        "        callbacks=[tensorboard_callback]\n",
        "    )\n",
        "    _, accuracy = model.evaluate(test_ds)\n",
        "    print(f\"Test accuracy: {round(accuracy * 100, 2)}%\")\n",
        "    return history"
      ],
      "metadata": {
        "id": "Gx9G0esM-vyS"
      },
      "execution_count": null,
      "outputs": []
    },
    {
      "cell_type": "code",
      "source": [
        "def testing(model):\n",
        "  pre = Precision()\n",
        "  re = Recall()\n",
        "  acc = SparseCategoricalAccuracy()\n",
        "  pred = []\n",
        "  for batch in test_ds.as_numpy_iterator(): \n",
        "    X, y = batch\n",
        "    yhat = np.argmax(model.predict(X), axis=1)\n",
        "    pred.append(yhat)\n",
        "    xy=model.predict(X)\n",
        "    pre.update_state(y, yhat)\n",
        "    re.update_state(y, yhat)\n",
        "    acc.update_state(y, xy)\n",
        "\n",
        "  pred = np.array(pred)\n",
        "  pred = pred.reshape((pred.size,))\n",
        "  print(accuracy_score(y_test, pred))\n",
        "  ConfusionMatrixDisplay.from_predictions(y_test, pred)\n",
        "  tf.keras.utils.plot_model(model,show_shapes=True)\n",
        "  print(classification_report(y_test, pred, target_names=labels))\n"
      ],
      "metadata": {
        "id": "vM9ZPPP-w1vW"
      },
      "execution_count": null,
      "outputs": []
    },
    {
      "cell_type": "code",
      "source": [
        "#tf.keras.utils.plot_model(vit_sl,show_shapes=True)"
      ],
      "metadata": {
        "id": "_DaqXlNsZULX"
      },
      "execution_count": null,
      "outputs": []
    },
    {
      "cell_type": "code",
      "source": [
        "testing(vit_sl)"
      ],
      "metadata": {
        "colab": {
          "base_uri": "https://localhost:8080/",
          "height": 692
        },
        "id": "5hh7Qf92QlOL",
        "outputId": "3bc54159-06a6-46c4-dbfa-0d3bc5ed7317"
      },
      "execution_count": null,
      "outputs": [
        {
          "output_type": "stream",
          "name": "stdout",
          "text": [
            "6/6 [==============================] - 7s 880ms/step\n",
            "6/6 [==============================] - 3s 521ms/step\n",
            "tf.Tensor(0.7118644, shape=(), dtype=float32) tf.Tensor(0.9692308, shape=(), dtype=float32) tf.Tensor(0.4728261, shape=(), dtype=float32)\n",
            "0.47282608695652173\n",
            "              precision    recall  f1-score   support\n",
            "\n",
            "        HSIL       0.43      0.06      0.10        54\n",
            "        LSIL       0.48      0.21      0.29        47\n",
            "        NSIL       0.47      0.89      0.62        83\n",
            "\n",
            "    accuracy                           0.47       184\n",
            "   macro avg       0.46      0.39      0.34       184\n",
            "weighted avg       0.46      0.47      0.38       184\n",
            "\n"
          ]
        },
        {
          "output_type": "display_data",
          "data": {
            "text/plain": [
              "<Figure size 640x480 with 2 Axes>"
            ],
            "image/png": "[encoded data removed]"
          },
          "metadata": {}
        }
      ]
    },
    {
      "cell_type": "code",
      "source": [
        "image_path = \"/content/gdrive/MyDrive/Colab Notebooks/Data/NSIL/pow. 40/1b.bmp\"\n",
        "image = tf.keras.preprocessing.image.load_img(image_path, target_size=(72, 72))\n",
        "image = tf.keras.preprocessing.image.img_to_array(image)\n",
        "image =  np.expand_dims(image, 0)\n",
        "yp = vit_sl.predict(image)\n",
        "print(yp)"
      ],
      "metadata": {
        "colab": {
          "base_uri": "https://localhost:8080/"
        },
        "id": "lpx8zpH2ioaJ",
        "outputId": "688545eb-4a2e-4f09-ab5d-53200ac84039"
      },
      "execution_count": null,
      "outputs": [
        {
          "output_type": "stream",
          "name": "stdout",
          "text": [
            "1/1 [==============================] - 0s 114ms/step\n",
            "[[0.20321299 0.2593461  0.53744096]]\n"
          ]
        }
      ]
    },
    {
      "cell_type": "code",
      "source": [
        "vit_sl = create_vit_classifier(vanilla=False)\n",
        "history = run_experiment(vit_sl)\n",
        "testing(vit_sl)"
      ],
      "metadata": {
        "colab": {
          "base_uri": "https://localhost:8080/",
          "height": 1000
        },
        "id": "8KGxU8VJ-0d8",
        "outputId": "73165ee5-8bcc-4180-cdd9-1e2d7e63a2b0"
      },
      "execution_count": null,
      "outputs": [
        {
          "output_type": "stream",
          "name": "stdout",
          "text": [
            "Epoch 1/100\n"
          ]
        },
        {
          "output_type": "stream",
          "name": "stderr",
          "text": [
            "/usr/local/lib/python3.10/dist-packages/keras/backend.py:5612: UserWarning: \"`sparse_categorical_crossentropy` received `from_logits=True`, but the `output` argument was produced by a Softmax activation and thus does not represent logits. Was this intended?\n",
            "  output, from_logits = _get_logits(\n"
          ]
        },
        {
          "output_type": "stream",
          "name": "stdout",
          "text": [
            "3/3 [==============================] - 16s 1s/step - loss: 9.9051 - accuracy: 0.4252 - val_loss: 3.2940 - val_accuracy: 0.2174\n",
            "Epoch 2/100\n",
            "3/3 [==============================] - 2s 646ms/step - loss: 5.3863 - accuracy: 0.3302 - val_loss: 2.6264 - val_accuracy: 0.5652\n",
            "Epoch 3/100\n",
            "3/3 [==============================] - 2s 669ms/step - loss: 2.9790 - accuracy: 0.4735 - val_loss: 2.1172 - val_accuracy: 0.3152\n",
            "Epoch 4/100\n",
            "3/3 [==============================] - 3s 883ms/step - loss: 1.9567 - accuracy: 0.4470 - val_loss: 1.0595 - val_accuracy: 0.4565\n",
            "Epoch 5/100\n",
            "3/3 [==============================] - 2s 639ms/step - loss: 1.6113 - accuracy: 0.4548 - val_loss: 0.9239 - val_accuracy: 0.5761\n",
            "Epoch 6/100\n",
            "3/3 [==============================] - 2s 702ms/step - loss: 1.2778 - accuracy: 0.4766 - val_loss: 1.2288 - val_accuracy: 0.3478\n",
            "Epoch 7/100\n",
            "3/3 [==============================] - 2s 671ms/step - loss: 1.2239 - accuracy: 0.4813 - val_loss: 0.9563 - val_accuracy: 0.5761\n",
            "Epoch 8/100\n",
            "3/3 [==============================] - 3s 891ms/step - loss: 1.1903 - accuracy: 0.4907 - val_loss: 0.9600 - val_accuracy: 0.5109\n",
            "Epoch 9/100\n",
            "3/3 [==============================] - 3s 713ms/step - loss: 0.9720 - accuracy: 0.5561 - val_loss: 0.8688 - val_accuracy: 0.6087\n",
            "Epoch 10/100\n",
            "3/3 [==============================] - 2s 708ms/step - loss: 1.0057 - accuracy: 0.5483 - val_loss: 0.8706 - val_accuracy: 0.6196\n",
            "Epoch 11/100\n",
            "3/3 [==============================] - 2s 669ms/step - loss: 0.9460 - accuracy: 0.5779 - val_loss: 0.9021 - val_accuracy: 0.5652\n",
            "Epoch 12/100\n",
            "3/3 [==============================] - 2s 654ms/step - loss: 0.9231 - accuracy: 0.5483 - val_loss: 0.8869 - val_accuracy: 0.5978\n",
            "Epoch 13/100\n",
            "3/3 [==============================] - 3s 867ms/step - loss: 0.9366 - accuracy: 0.5530 - val_loss: 0.8655 - val_accuracy: 0.6522\n",
            "Epoch 14/100\n",
            "3/3 [==============================] - 3s 695ms/step - loss: 0.8910 - accuracy: 0.5826 - val_loss: 0.8618 - val_accuracy: 0.6196\n",
            "Epoch 15/100\n",
            "3/3 [==============================] - 2s 708ms/step - loss: 0.8559 - accuracy: 0.6090 - val_loss: 0.8400 - val_accuracy: 0.6413\n",
            "Epoch 16/100\n",
            "3/3 [==============================] - 2s 704ms/step - loss: 0.8351 - accuracy: 0.6137 - val_loss: 0.7958 - val_accuracy: 0.6304\n",
            "Epoch 17/100\n",
            "3/3 [==============================] - 3s 876ms/step - loss: 0.7824 - accuracy: 0.6480 - val_loss: 0.8385 - val_accuracy: 0.6196\n",
            "Epoch 18/100\n",
            "3/3 [==============================] - 3s 763ms/step - loss: 0.7649 - accuracy: 0.6433 - val_loss: 0.9040 - val_accuracy: 0.5978\n",
            "Epoch 19/100\n",
            "3/3 [==============================] - 2s 703ms/step - loss: 0.7737 - accuracy: 0.6604 - val_loss: 0.7894 - val_accuracy: 0.6413\n",
            "Epoch 20/100\n",
            "3/3 [==============================] - 2s 707ms/step - loss: 0.7609 - accuracy: 0.6449 - val_loss: 0.8349 - val_accuracy: 0.5978\n",
            "Epoch 21/100\n",
            "3/3 [==============================] - 3s 800ms/step - loss: 0.7243 - accuracy: 0.6994 - val_loss: 0.7813 - val_accuracy: 0.6522\n",
            "Epoch 22/100\n",
            "3/3 [==============================] - 3s 811ms/step - loss: 0.6650 - accuracy: 0.6885 - val_loss: 0.7450 - val_accuracy: 0.6522\n",
            "Epoch 23/100\n",
            "3/3 [==============================] - 2s 645ms/step - loss: 0.6870 - accuracy: 0.6994 - val_loss: 0.7938 - val_accuracy: 0.6196\n",
            "Epoch 24/100\n",
            "3/3 [==============================] - 3s 718ms/step - loss: 0.7074 - accuracy: 0.6947 - val_loss: 0.7729 - val_accuracy: 0.6522\n",
            "Epoch 25/100\n",
            "3/3 [==============================] - 3s 827ms/step - loss: 0.6408 - accuracy: 0.7243 - val_loss: 0.8369 - val_accuracy: 0.6087\n",
            "Epoch 26/100\n",
            "3/3 [==============================] - 2s 712ms/step - loss: 0.6744 - accuracy: 0.7181 - val_loss: 0.7924 - val_accuracy: 0.6304\n",
            "Epoch 27/100\n",
            "3/3 [==============================] - 2s 668ms/step - loss: 0.6259 - accuracy: 0.7352 - val_loss: 0.7752 - val_accuracy: 0.6304\n",
            "Epoch 28/100\n",
            "3/3 [==============================] - 2s 713ms/step - loss: 0.6267 - accuracy: 0.7321 - val_loss: 0.7688 - val_accuracy: 0.6848\n",
            "Epoch 29/100\n",
            "3/3 [==============================] - 2s 723ms/step - loss: 0.6082 - accuracy: 0.7430 - val_loss: 0.7650 - val_accuracy: 0.6739\n",
            "Epoch 30/100\n",
            "3/3 [==============================] - 3s 688ms/step - loss: 0.5805 - accuracy: 0.7679 - val_loss: 0.7327 - val_accuracy: 0.6957\n",
            "Epoch 31/100\n",
            "3/3 [==============================] - 3s 704ms/step - loss: 0.5810 - accuracy: 0.7368 - val_loss: 0.6948 - val_accuracy: 0.6848\n",
            "Epoch 32/100\n",
            "3/3 [==============================] - 3s 758ms/step - loss: 0.6054 - accuracy: 0.7227 - val_loss: 0.7315 - val_accuracy: 0.7065\n",
            "Epoch 33/100\n",
            "3/3 [==============================] - 2s 683ms/step - loss: 0.5623 - accuracy: 0.7539 - val_loss: 0.7273 - val_accuracy: 0.6848\n",
            "Epoch 34/100\n",
            "3/3 [==============================] - 2s 679ms/step - loss: 0.5321 - accuracy: 0.7648 - val_loss: 0.7466 - val_accuracy: 0.6848\n",
            "Epoch 35/100\n",
            "3/3 [==============================] - 2s 671ms/step - loss: 0.5057 - accuracy: 0.8022 - val_loss: 0.7034 - val_accuracy: 0.7283\n",
            "Epoch 36/100\n",
            "3/3 [==============================] - 3s 737ms/step - loss: 0.4967 - accuracy: 0.7975 - val_loss: 0.6895 - val_accuracy: 0.7391\n",
            "Epoch 37/100\n",
            "3/3 [==============================] - 2s 686ms/step - loss: 0.5072 - accuracy: 0.7928 - val_loss: 0.7746 - val_accuracy: 0.6848\n",
            "Epoch 38/100\n",
            "3/3 [==============================] - 2s 709ms/step - loss: 0.4767 - accuracy: 0.8193 - val_loss: 0.7584 - val_accuracy: 0.6957\n",
            "Epoch 39/100\n",
            "3/3 [==============================] - 2s 665ms/step - loss: 0.4778 - accuracy: 0.8084 - val_loss: 0.7092 - val_accuracy: 0.7391\n",
            "Epoch 40/100\n",
            "3/3 [==============================] - 2s 724ms/step - loss: 0.5267 - accuracy: 0.7866 - val_loss: 0.7635 - val_accuracy: 0.7283\n",
            "Epoch 41/100\n",
            "3/3 [==============================] - 2s 656ms/step - loss: 0.4558 - accuracy: 0.8255 - val_loss: 0.7687 - val_accuracy: 0.6413\n",
            "Epoch 42/100\n",
            "3/3 [==============================] - 2s 706ms/step - loss: 0.4451 - accuracy: 0.8209 - val_loss: 0.6628 - val_accuracy: 0.6848\n",
            "Epoch 43/100\n",
            "3/3 [==============================] - 2s 706ms/step - loss: 0.4274 - accuracy: 0.8193 - val_loss: 0.6834 - val_accuracy: 0.7283\n",
            "Epoch 44/100\n",
            "3/3 [==============================] - 3s 731ms/step - loss: 0.4220 - accuracy: 0.8364 - val_loss: 0.7630 - val_accuracy: 0.7283\n",
            "Epoch 45/100\n",
            "3/3 [==============================] - 2s 682ms/step - loss: 0.4243 - accuracy: 0.8318 - val_loss: 0.7769 - val_accuracy: 0.6848\n",
            "Epoch 46/100\n",
            "3/3 [==============================] - 2s 660ms/step - loss: 0.4508 - accuracy: 0.8069 - val_loss: 0.7119 - val_accuracy: 0.7065\n",
            "Epoch 47/100\n",
            "3/3 [==============================] - 2s 663ms/step - loss: 0.4542 - accuracy: 0.8037 - val_loss: 0.6974 - val_accuracy: 0.7283\n",
            "Epoch 48/100\n",
            "3/3 [==============================] - 3s 745ms/step - loss: 0.4055 - accuracy: 0.8255 - val_loss: 0.8110 - val_accuracy: 0.6630\n",
            "Epoch 49/100\n",
            "3/3 [==============================] - 2s 649ms/step - loss: 0.3877 - accuracy: 0.8287 - val_loss: 0.7996 - val_accuracy: 0.6739\n",
            "Epoch 50/100\n",
            "3/3 [==============================] - 2s 705ms/step - loss: 0.3776 - accuracy: 0.8645 - val_loss: 0.7936 - val_accuracy: 0.6848\n",
            "Epoch 51/100\n",
            "3/3 [==============================] - 2s 712ms/step - loss: 0.3637 - accuracy: 0.8505 - val_loss: 0.7329 - val_accuracy: 0.7065\n",
            "Epoch 52/100\n",
            "3/3 [==============================] - 3s 758ms/step - loss: 0.3065 - accuracy: 0.8972 - val_loss: 0.7197 - val_accuracy: 0.7391\n",
            "Epoch 53/100\n",
            "3/3 [==============================] - 2s 642ms/step - loss: 0.3703 - accuracy: 0.8505 - val_loss: 0.7933 - val_accuracy: 0.7391\n",
            "Epoch 54/100\n",
            "3/3 [==============================] - 2s 663ms/step - loss: 0.3121 - accuracy: 0.8723 - val_loss: 0.8980 - val_accuracy: 0.7174\n",
            "Epoch 55/100\n",
            "3/3 [==============================] - 2s 656ms/step - loss: 0.3359 - accuracy: 0.8692 - val_loss: 0.8688 - val_accuracy: 0.6848\n",
            "Epoch 56/100\n",
            "3/3 [==============================] - 2s 717ms/step - loss: 0.3528 - accuracy: 0.8614 - val_loss: 1.0106 - val_accuracy: 0.6957\n",
            "Epoch 57/100\n",
            "3/3 [==============================] - 2s 689ms/step - loss: 0.3489 - accuracy: 0.8520 - val_loss: 0.9574 - val_accuracy: 0.6848\n",
            "Epoch 58/100\n",
            "3/3 [==============================] - 2s 667ms/step - loss: 0.4146 - accuracy: 0.8318 - val_loss: 1.1247 - val_accuracy: 0.7283\n",
            "Epoch 59/100\n",
            "3/3 [==============================] - 2s 656ms/step - loss: 0.4596 - accuracy: 0.8380 - val_loss: 0.9066 - val_accuracy: 0.6522\n",
            "Epoch 60/100\n",
            "3/3 [==============================] - 2s 726ms/step - loss: 0.4427 - accuracy: 0.8411 - val_loss: 0.9361 - val_accuracy: 0.6848\n",
            "Epoch 61/100\n",
            "3/3 [==============================] - 2s 638ms/step - loss: 0.3403 - accuracy: 0.8801 - val_loss: 0.9198 - val_accuracy: 0.7065\n",
            "Epoch 62/100\n",
            "3/3 [==============================] - 2s 667ms/step - loss: 0.3467 - accuracy: 0.8785 - val_loss: 0.8261 - val_accuracy: 0.6630\n",
            "Epoch 63/100\n",
            "3/3 [==============================] - 2s 666ms/step - loss: 0.3181 - accuracy: 0.8785 - val_loss: 0.8572 - val_accuracy: 0.7283\n",
            "Epoch 64/100\n",
            "3/3 [==============================] - 2s 688ms/step - loss: 0.2967 - accuracy: 0.8754 - val_loss: 1.0141 - val_accuracy: 0.7065\n",
            "Epoch 65/100\n",
            "3/3 [==============================] - 3s 941ms/step - loss: 0.3440 - accuracy: 0.8692 - val_loss: 0.8527 - val_accuracy: 0.7065\n",
            "Epoch 66/100\n",
            "3/3 [==============================] - 2s 647ms/step - loss: 0.2937 - accuracy: 0.8816 - val_loss: 0.8640 - val_accuracy: 0.7500\n",
            "Epoch 67/100\n",
            "3/3 [==============================] - 2s 721ms/step - loss: 0.2448 - accuracy: 0.9050 - val_loss: 0.9513 - val_accuracy: 0.6957\n",
            "Epoch 68/100\n",
            "3/3 [==============================] - 2s 673ms/step - loss: 0.2694 - accuracy: 0.8879 - val_loss: 0.9546 - val_accuracy: 0.6957\n",
            "Epoch 69/100\n",
            "3/3 [==============================] - 3s 926ms/step - loss: 0.2839 - accuracy: 0.8879 - val_loss: 0.9748 - val_accuracy: 0.7283\n",
            "Epoch 70/100\n",
            "3/3 [==============================] - 2s 653ms/step - loss: 0.2760 - accuracy: 0.9019 - val_loss: 0.8754 - val_accuracy: 0.7826\n",
            "Epoch 71/100\n",
            "3/3 [==============================] - 3s 937ms/step - loss: 0.2290 - accuracy: 0.9143 - val_loss: 0.9061 - val_accuracy: 0.7609\n",
            "Epoch 72/100\n",
            "3/3 [==============================] - 3s 826ms/step - loss: 0.2808 - accuracy: 0.8738 - val_loss: 1.1141 - val_accuracy: 0.7283\n",
            "Epoch 73/100\n",
            "3/3 [==============================] - 2s 691ms/step - loss: 0.2271 - accuracy: 0.9143 - val_loss: 1.1781 - val_accuracy: 0.6848\n",
            "Epoch 74/100\n",
            "3/3 [==============================] - 2s 705ms/step - loss: 0.2510 - accuracy: 0.9237 - val_loss: 0.9840 - val_accuracy: 0.6957\n",
            "Epoch 75/100\n",
            "3/3 [==============================] - 2s 658ms/step - loss: 0.2383 - accuracy: 0.8988 - val_loss: 1.0629 - val_accuracy: 0.7283\n",
            "Epoch 76/100\n",
            "3/3 [==============================] - 3s 779ms/step - loss: 0.2709 - accuracy: 0.8972 - val_loss: 1.0668 - val_accuracy: 0.7391\n",
            "Epoch 77/100\n",
            "3/3 [==============================] - 2s 646ms/step - loss: 0.2643 - accuracy: 0.9097 - val_loss: 0.8885 - val_accuracy: 0.7500\n",
            "Epoch 78/100\n",
            "3/3 [==============================] - 2s 663ms/step - loss: 0.2235 - accuracy: 0.9237 - val_loss: 0.9886 - val_accuracy: 0.7826\n",
            "Epoch 79/100\n",
            "3/3 [==============================] - 2s 683ms/step - loss: 0.2387 - accuracy: 0.9081 - val_loss: 0.9573 - val_accuracy: 0.7500\n",
            "Epoch 80/100\n",
            "3/3 [==============================] - 3s 783ms/step - loss: 0.2742 - accuracy: 0.9159 - val_loss: 0.9990 - val_accuracy: 0.7283\n",
            "Epoch 81/100\n",
            "3/3 [==============================] - 3s 808ms/step - loss: 0.2192 - accuracy: 0.9128 - val_loss: 1.0914 - val_accuracy: 0.6739\n",
            "Epoch 82/100\n",
            "3/3 [==============================] - 2s 722ms/step - loss: 0.2175 - accuracy: 0.9190 - val_loss: 1.0070 - val_accuracy: 0.6957\n",
            "Epoch 83/100\n",
            "3/3 [==============================] - 2s 693ms/step - loss: 0.2079 - accuracy: 0.9315 - val_loss: 1.0011 - val_accuracy: 0.7174\n",
            "Epoch 84/100\n",
            "3/3 [==============================] - 2s 674ms/step - loss: 0.1922 - accuracy: 0.9268 - val_loss: 1.0582 - val_accuracy: 0.7609\n",
            "Epoch 85/100\n",
            "3/3 [==============================] - 2s 722ms/step - loss: 0.2037 - accuracy: 0.9330 - val_loss: 1.0087 - val_accuracy: 0.7609\n",
            "Epoch 86/100\n",
            "3/3 [==============================] - 3s 918ms/step - loss: 0.1962 - accuracy: 0.9252 - val_loss: 1.1033 - val_accuracy: 0.7826\n",
            "Epoch 87/100\n",
            "3/3 [==============================] - 3s 699ms/step - loss: 0.2091 - accuracy: 0.9190 - val_loss: 1.1762 - val_accuracy: 0.7609\n",
            "Epoch 88/100\n",
            "3/3 [==============================] - 2s 666ms/step - loss: 0.2013 - accuracy: 0.9330 - val_loss: 0.9955 - val_accuracy: 0.7717\n",
            "Epoch 89/100\n",
            "3/3 [==============================] - 2s 661ms/step - loss: 0.2173 - accuracy: 0.9174 - val_loss: 1.3092 - val_accuracy: 0.7717\n",
            "Epoch 90/100\n",
            "3/3 [==============================] - 3s 932ms/step - loss: 0.2357 - accuracy: 0.9174 - val_loss: 1.1450 - val_accuracy: 0.7391\n",
            "Epoch 91/100\n",
            "3/3 [==============================] - 2s 648ms/step - loss: 0.1796 - accuracy: 0.9315 - val_loss: 1.1687 - val_accuracy: 0.7717\n",
            "Epoch 92/100\n",
            "3/3 [==============================] - 2s 709ms/step - loss: 0.2050 - accuracy: 0.9206 - val_loss: 1.1830 - val_accuracy: 0.7935\n",
            "Epoch 93/100\n",
            "3/3 [==============================] - 2s 665ms/step - loss: 0.1929 - accuracy: 0.9268 - val_loss: 1.0702 - val_accuracy: 0.7174\n",
            "Epoch 94/100\n",
            "3/3 [==============================] - 3s 791ms/step - loss: 0.1990 - accuracy: 0.9237 - val_loss: 1.0426 - val_accuracy: 0.7391\n",
            "Epoch 95/100\n",
            "3/3 [==============================] - 2s 631ms/step - loss: 0.1779 - accuracy: 0.9268 - val_loss: 1.1846 - val_accuracy: 0.7500\n",
            "Epoch 96/100\n",
            "3/3 [==============================] - 2s 670ms/step - loss: 0.1410 - accuracy: 0.9502 - val_loss: 1.2252 - val_accuracy: 0.7391\n",
            "Epoch 97/100\n",
            "3/3 [==============================] - 3s 718ms/step - loss: 0.1817 - accuracy: 0.9283 - val_loss: 1.1440 - val_accuracy: 0.7717\n",
            "Epoch 98/100\n",
            "3/3 [==============================] - 3s 767ms/step - loss: 0.1617 - accuracy: 0.9455 - val_loss: 1.1186 - val_accuracy: 0.7717\n",
            "Epoch 99/100\n",
            "3/3 [==============================] - 2s 697ms/step - loss: 0.1357 - accuracy: 0.9579 - val_loss: 1.0991 - val_accuracy: 0.7717\n",
            "Epoch 100/100\n",
            "3/3 [==============================] - 2s 647ms/step - loss: 0.2072 - accuracy: 0.9252 - val_loss: 1.0924 - val_accuracy: 0.7500\n",
            "1/1 [==============================] - 0s 446ms/step - loss: 0.7157 - accuracy: 0.7337\n",
            "Test accuracy: 73.37%\n",
            "6/6 [==============================] - 1s 32ms/step\n",
            "6/6 [==============================] - 0s 28ms/step\n",
            "0.7336956521739131\n",
            "              precision    recall  f1-score   support\n",
            "\n",
            "        HSIL       0.66      0.78      0.71        54\n",
            "        LSIL       0.59      0.36      0.45        47\n",
            "        NSIL       0.84      0.92      0.87        83\n",
            "\n",
            "    accuracy                           0.73       184\n",
            "   macro avg       0.69      0.69      0.68       184\n",
            "weighted avg       0.72      0.73      0.72       184\n",
            "\n"
          ]
        },
        {
          "output_type": "display_data",
          "data": {
            "text/plain": [
              "<Figure size 640x480 with 2 Axes>"
            ],
            "image/png": "[encoded data removed]"
          },
          "metadata": {}
        }
      ]
    },
    {
      "cell_type": "code",
      "source": [
        "vit_sl.summary()"
      ],
      "metadata": {
        "colab": {
          "base_uri": "https://localhost:8080/"
        },
        "id": "bk9y2vz-ZcmI",
        "outputId": "48b69d63-e49d-4bc2-944d-c63f144b6d6e"
      },
      "execution_count": null,
      "outputs": [
        {
          "output_type": "stream",
          "name": "stdout",
          "text": [
            "Model: \"model_6\"\n",
            "__________________________________________________________________________________________________\n",
            " Layer (type)                   Output Shape         Param #     Connected to                     \n",
            "==================================================================================================\n",
            " input_layer (InputLayer)       [(None, 72, 72, 3)]  0           []                               \n",
            "                                                                                                  \n",
            " shifted_patch_tokenization_6 (  ((None, 144, 64),   35704       ['input_layer[0][0]']            \n",
            " ShiftedPatchTokenization)       (None, 12, 12, 540                                               \n",
            "                                ))                                                                \n",
            "                                                                                                  \n",
            " patch_encoder_6 (PatchEncoder)  (None, 144, 64)     9216        ['shifted_patch_tokenization_6[0]\n",
            "                                                                 [0]']                            \n",
            "                                                                                                  \n",
            " layer_normalization_109 (Layer  (None, 144, 64)     128         ['patch_encoder_6[0][0]']        \n",
            " Normalization)                                                                                   \n",
            "                                                                                                  \n",
            " multi_head_attention_lsa_48 (M  (None, 144, 64)     66369       ['layer_normalization_109[0][0]',\n",
            " ultiHeadAttentionLSA)                                            'layer_normalization_109[0][0]']\n",
            "                                                                                                  \n",
            " add_96 (Add)                   (None, 144, 64)      0           ['multi_head_attention_lsa_48[0][\n",
            "                                                                 0]',                             \n",
            "                                                                  'patch_encoder_6[0][0]']        \n",
            "                                                                                                  \n",
            " layer_normalization_110 (Layer  (None, 144, 64)     128         ['add_96[0][0]']                 \n",
            " Normalization)                                                                                   \n",
            "                                                                                                  \n",
            " dense_115 (Dense)              (None, 144, 128)     8320        ['layer_normalization_110[0][0]']\n",
            "                                                                                                  \n",
            " dropout_114 (Dropout)          (None, 144, 128)     0           ['dense_115[0][0]']              \n",
            "                                                                                                  \n",
            " dense_116 (Dense)              (None, 144, 64)      8256        ['dropout_114[0][0]']            \n",
            "                                                                                                  \n",
            " dropout_115 (Dropout)          (None, 144, 64)      0           ['dense_116[0][0]']              \n",
            "                                                                                                  \n",
            " add_97 (Add)                   (None, 144, 64)      0           ['dropout_115[0][0]',            \n",
            "                                                                  'add_96[0][0]']                 \n",
            "                                                                                                  \n",
            " layer_normalization_111 (Layer  (None, 144, 64)     128         ['add_97[0][0]']                 \n",
            " Normalization)                                                                                   \n",
            "                                                                                                  \n",
            " multi_head_attention_lsa_49 (M  (None, 144, 64)     66369       ['layer_normalization_111[0][0]',\n",
            " ultiHeadAttentionLSA)                                            'layer_normalization_111[0][0]']\n",
            "                                                                                                  \n",
            " add_98 (Add)                   (None, 144, 64)      0           ['multi_head_attention_lsa_49[0][\n",
            "                                                                 0]',                             \n",
            "                                                                  'add_97[0][0]']                 \n",
            "                                                                                                  \n",
            " layer_normalization_112 (Layer  (None, 144, 64)     128         ['add_98[0][0]']                 \n",
            " Normalization)                                                                                   \n",
            "                                                                                                  \n",
            " dense_117 (Dense)              (None, 144, 128)     8320        ['layer_normalization_112[0][0]']\n",
            "                                                                                                  \n",
            " dropout_116 (Dropout)          (None, 144, 128)     0           ['dense_117[0][0]']              \n",
            "                                                                                                  \n",
            " dense_118 (Dense)              (None, 144, 64)      8256        ['dropout_116[0][0]']            \n",
            "                                                                                                  \n",
            " dropout_117 (Dropout)          (None, 144, 64)      0           ['dense_118[0][0]']              \n",
            "                                                                                                  \n",
            " add_99 (Add)                   (None, 144, 64)      0           ['dropout_117[0][0]',            \n",
            "                                                                  'add_98[0][0]']                 \n",
            "                                                                                                  \n",
            " layer_normalization_113 (Layer  (None, 144, 64)     128         ['add_99[0][0]']                 \n",
            " Normalization)                                                                                   \n",
            "                                                                                                  \n",
            " multi_head_attention_lsa_50 (M  (None, 144, 64)     66369       ['layer_normalization_113[0][0]',\n",
            " ultiHeadAttentionLSA)                                            'layer_normalization_113[0][0]']\n",
            "                                                                                                  \n",
            " add_100 (Add)                  (None, 144, 64)      0           ['multi_head_attention_lsa_50[0][\n",
            "                                                                 0]',                             \n",
            "                                                                  'add_99[0][0]']                 \n",
            "                                                                                                  \n",
            " layer_normalization_114 (Layer  (None, 144, 64)     128         ['add_100[0][0]']                \n",
            " Normalization)                                                                                   \n",
            "                                                                                                  \n",
            " dense_119 (Dense)              (None, 144, 128)     8320        ['layer_normalization_114[0][0]']\n",
            "                                                                                                  \n",
            " dropout_118 (Dropout)          (None, 144, 128)     0           ['dense_119[0][0]']              \n",
            "                                                                                                  \n",
            " dense_120 (Dense)              (None, 144, 64)      8256        ['dropout_118[0][0]']            \n",
            "                                                                                                  \n",
            " dropout_119 (Dropout)          (None, 144, 64)      0           ['dense_120[0][0]']              \n",
            "                                                                                                  \n",
            " add_101 (Add)                  (None, 144, 64)      0           ['dropout_119[0][0]',            \n",
            "                                                                  'add_100[0][0]']                \n",
            "                                                                                                  \n",
            " layer_normalization_115 (Layer  (None, 144, 64)     128         ['add_101[0][0]']                \n",
            " Normalization)                                                                                   \n",
            "                                                                                                  \n",
            " multi_head_attention_lsa_51 (M  (None, 144, 64)     66369       ['layer_normalization_115[0][0]',\n",
            " ultiHeadAttentionLSA)                                            'layer_normalization_115[0][0]']\n",
            "                                                                                                  \n",
            " add_102 (Add)                  (None, 144, 64)      0           ['multi_head_attention_lsa_51[0][\n",
            "                                                                 0]',                             \n",
            "                                                                  'add_101[0][0]']                \n",
            "                                                                                                  \n",
            " layer_normalization_116 (Layer  (None, 144, 64)     128         ['add_102[0][0]']                \n",
            " Normalization)                                                                                   \n",
            "                                                                                                  \n",
            " dense_121 (Dense)              (None, 144, 128)     8320        ['layer_normalization_116[0][0]']\n",
            "                                                                                                  \n",
            " dropout_120 (Dropout)          (None, 144, 128)     0           ['dense_121[0][0]']              \n",
            "                                                                                                  \n",
            " dense_122 (Dense)              (None, 144, 64)      8256        ['dropout_120[0][0]']            \n",
            "                                                                                                  \n",
            " dropout_121 (Dropout)          (None, 144, 64)      0           ['dense_122[0][0]']              \n",
            "                                                                                                  \n",
            " add_103 (Add)                  (None, 144, 64)      0           ['dropout_121[0][0]',            \n",
            "                                                                  'add_102[0][0]']                \n",
            "                                                                                                  \n",
            " layer_normalization_117 (Layer  (None, 144, 64)     128         ['add_103[0][0]']                \n",
            " Normalization)                                                                                   \n",
            "                                                                                                  \n",
            " multi_head_attention_lsa_52 (M  (None, 144, 64)     66369       ['layer_normalization_117[0][0]',\n",
            " ultiHeadAttentionLSA)                                            'layer_normalization_117[0][0]']\n",
            "                                                                                                  \n",
            " add_104 (Add)                  (None, 144, 64)      0           ['multi_head_attention_lsa_52[0][\n",
            "                                                                 0]',                             \n",
            "                                                                  'add_103[0][0]']                \n",
            "                                                                                                  \n",
            " layer_normalization_118 (Layer  (None, 144, 64)     128         ['add_104[0][0]']                \n",
            " Normalization)                                                                                   \n",
            "                                                                                                  \n",
            " dense_123 (Dense)              (None, 144, 128)     8320        ['layer_normalization_118[0][0]']\n",
            "                                                                                                  \n",
            " dropout_122 (Dropout)          (None, 144, 128)     0           ['dense_123[0][0]']              \n",
            "                                                                                                  \n",
            " dense_124 (Dense)              (None, 144, 64)      8256        ['dropout_122[0][0]']            \n",
            "                                                                                                  \n",
            " dropout_123 (Dropout)          (None, 144, 64)      0           ['dense_124[0][0]']              \n",
            "                                                                                                  \n",
            " add_105 (Add)                  (None, 144, 64)      0           ['dropout_123[0][0]',            \n",
            "                                                                  'add_104[0][0]']                \n",
            "                                                                                                  \n",
            " layer_normalization_119 (Layer  (None, 144, 64)     128         ['add_105[0][0]']                \n",
            " Normalization)                                                                                   \n",
            "                                                                                                  \n",
            " multi_head_attention_lsa_53 (M  (None, 144, 64)     66369       ['layer_normalization_119[0][0]',\n",
            " ultiHeadAttentionLSA)                                            'layer_normalization_119[0][0]']\n",
            "                                                                                                  \n",
            " add_106 (Add)                  (None, 144, 64)      0           ['multi_head_attention_lsa_53[0][\n",
            "                                                                 0]',                             \n",
            "                                                                  'add_105[0][0]']                \n",
            "                                                                                                  \n",
            " layer_normalization_120 (Layer  (None, 144, 64)     128         ['add_106[0][0]']                \n",
            " Normalization)                                                                                   \n",
            "                                                                                                  \n",
            " dense_125 (Dense)              (None, 144, 128)     8320        ['layer_normalization_120[0][0]']\n",
            "                                                                                                  \n",
            " dropout_124 (Dropout)          (None, 144, 128)     0           ['dense_125[0][0]']              \n",
            "                                                                                                  \n",
            " dense_126 (Dense)              (None, 144, 64)      8256        ['dropout_124[0][0]']            \n",
            "                                                                                                  \n",
            " dropout_125 (Dropout)          (None, 144, 64)      0           ['dense_126[0][0]']              \n",
            "                                                                                                  \n",
            " add_107 (Add)                  (None, 144, 64)      0           ['dropout_125[0][0]',            \n",
            "                                                                  'add_106[0][0]']                \n",
            "                                                                                                  \n",
            " layer_normalization_121 (Layer  (None, 144, 64)     128         ['add_107[0][0]']                \n",
            " Normalization)                                                                                   \n",
            "                                                                                                  \n",
            " multi_head_attention_lsa_54 (M  (None, 144, 64)     66369       ['layer_normalization_121[0][0]',\n",
            " ultiHeadAttentionLSA)                                            'layer_normalization_121[0][0]']\n",
            "                                                                                                  \n",
            " add_108 (Add)                  (None, 144, 64)      0           ['multi_head_attention_lsa_54[0][\n",
            "                                                                 0]',                             \n",
            "                                                                  'add_107[0][0]']                \n",
            "                                                                                                  \n",
            " layer_normalization_122 (Layer  (None, 144, 64)     128         ['add_108[0][0]']                \n",
            " Normalization)                                                                                   \n",
            "                                                                                                  \n",
            " dense_127 (Dense)              (None, 144, 128)     8320        ['layer_normalization_122[0][0]']\n",
            "                                                                                                  \n",
            " dropout_126 (Dropout)          (None, 144, 128)     0           ['dense_127[0][0]']              \n",
            "                                                                                                  \n",
            " dense_128 (Dense)              (None, 144, 64)      8256        ['dropout_126[0][0]']            \n",
            "                                                                                                  \n",
            " dropout_127 (Dropout)          (None, 144, 64)      0           ['dense_128[0][0]']              \n",
            "                                                                                                  \n",
            " add_109 (Add)                  (None, 144, 64)      0           ['dropout_127[0][0]',            \n",
            "                                                                  'add_108[0][0]']                \n",
            "                                                                                                  \n",
            " layer_normalization_123 (Layer  (None, 144, 64)     128         ['add_109[0][0]']                \n",
            " Normalization)                                                                                   \n",
            "                                                                                                  \n",
            " multi_head_attention_lsa_55 (M  (None, 144, 64)     66369       ['layer_normalization_123[0][0]',\n",
            " ultiHeadAttentionLSA)                                            'layer_normalization_123[0][0]']\n",
            "                                                                                                  \n",
            " add_110 (Add)                  (None, 144, 64)      0           ['multi_head_attention_lsa_55[0][\n",
            "                                                                 0]',                             \n",
            "                                                                  'add_109[0][0]']                \n",
            "                                                                                                  \n",
            " layer_normalization_124 (Layer  (None, 144, 64)     128         ['add_110[0][0]']                \n",
            " Normalization)                                                                                   \n",
            "                                                                                                  \n",
            " dense_129 (Dense)              (None, 144, 128)     8320        ['layer_normalization_124[0][0]']\n",
            "                                                                                                  \n",
            " dropout_128 (Dropout)          (None, 144, 128)     0           ['dense_129[0][0]']              \n",
            "                                                                                                  \n",
            " dense_130 (Dense)              (None, 144, 64)      8256        ['dropout_128[0][0]']            \n",
            "                                                                                                  \n",
            " dropout_129 (Dropout)          (None, 144, 64)      0           ['dense_130[0][0]']              \n",
            "                                                                                                  \n",
            " add_111 (Add)                  (None, 144, 64)      0           ['dropout_129[0][0]',            \n",
            "                                                                  'add_110[0][0]']                \n",
            "                                                                                                  \n",
            " layer_normalization_125 (Layer  (None, 144, 64)     128         ['add_111[0][0]']                \n",
            " Normalization)                                                                                   \n",
            "                                                                                                  \n",
            " flatten_6 (Flatten)            (None, 9216)         0           ['layer_normalization_125[0][0]']\n",
            "                                                                                                  \n",
            " dropout_130 (Dropout)          (None, 9216)         0           ['flatten_6[0][0]']              \n",
            "                                                                                                  \n",
            " dense_131 (Dense)              (None, 2048)         18876416    ['dropout_130[0][0]']            \n",
            "                                                                                                  \n",
            " dropout_131 (Dropout)          (None, 2048)         0           ['dense_131[0][0]']              \n",
            "                                                                                                  \n",
            " dense_132 (Dense)              (None, 1024)         2098176     ['dropout_131[0][0]']            \n",
            "                                                                                                  \n",
            " dropout_132 (Dropout)          (None, 1024)         0           ['dense_132[0][0]']              \n",
            "                                                                                                  \n",
            " output_dense (Dense)           (None, 3)            3075        ['dropout_132[0][0]']            \n",
            "                                                                                                  \n",
            "==================================================================================================\n",
            "Total params: 21,688,323\n",
            "Trainable params: 21,688,323\n",
            "Non-trainable params: 0\n",
            "__________________________________________________________________________________________________\n"
          ]
        }
      ]
    }
  ],
  "metadata": {
    "accelerator": "GPU",
    "colab": {
      "provenance": [],
      "gpuType": "T4"
    },
    "environment": {
      "name": "tf2-gpu.2-4.m61",
      "type": "gcloud",
      "uri": "gcr.io/deeplearning-platform-release/tf2-gpu.2-4:m61"
    },
    "kernelspec": {
      "display_name": "Python 3",
      "name": "python3"
    },
    "language_info": {
      "codemirror_mode": {
        "name": "ipython",
        "version": 3
      },
      "file_extension": ".py",
      "mimetype": "text/x-python",
      "name": "python",
      "nbconvert_exporter": "python",
      "pygments_lexer": "ipython3",
      "version": "3.7.9"
    }
  },
  "nbformat": 4,
  "nbformat_minor": 0
}